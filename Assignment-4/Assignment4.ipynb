{
 "cells": [
  {
   "cell_type": "code",
   "execution_count": 1,
   "metadata": {},
   "outputs": [
    {
     "name": "stdout",
     "output_type": "stream",
     "text": [
      "Ravi\n",
      "Shankar\n",
      "22\n",
      "Karachi\n",
      "{'first_name': 'Ravi', 'last_name': 'Shankar', 'age': 22, 'city': 'Karachi', 'qualification ': 'matric'}\n"
     ]
    }
   ],
   "source": [
    "person = {\n",
    "    'first_name': 'Ravi',\n",
    "    'last_name': 'Shankar',\n",
    "    'age': 22,\n",
    "    'city': 'Karachi'}\n",
    "person['qualification ']= 'matric'\n",
    "print(person['first_name'])\n",
    "print(person['last_name'])\n",
    "print(person['age'])\n",
    "print(person['city'])\n",
    "print(person)"
   ]
  },
  {
   "cell_type": "code",
   "execution_count": 2,
   "metadata": {},
   "outputs": [],
   "source": [
    "person['qualification ']='high level'"
   ]
  },
  {
   "cell_type": "code",
   "execution_count": 3,
   "metadata": {},
   "outputs": [
    {
     "name": "stdout",
     "output_type": "stream",
     "text": [
      "{'first_name': 'Ravi', 'last_name': 'Shankar', 'age': 22, 'city': 'Karachi', 'qualification ': 'high level'}\n"
     ]
    }
   ],
   "source": [
    "print(person)"
   ]
  },
  {
   "cell_type": "code",
   "execution_count": 4,
   "metadata": {},
   "outputs": [
    {
     "name": "stdout",
     "output_type": "stream",
     "text": [
      " population of citis is  Karachi 150000 Hydrabad 150000 Islamabad 150000\n",
      " population of citis is  Karachi 150000 Hydrabad 150000 Islamabad 150000\n",
      " population of citis is  Karachi 150000 Hydrabad 150000 Islamabad 150000\n",
      " population of citis is  Karachi 150000 Hydrabad 150000 Islamabad 150000\n"
     ]
    }
   ],
   "source": [
    "states1 ={\n",
    "    '1': 'Karachi', 'population': '150000',\n",
    "    '2': 'Hydrabad',  'population': '150000',\n",
    "    '3': 'Islamabad',  'population': '150000'\n",
    "}\n",
    "for city in states1.items():\n",
    "    print(\" population of citis is \" ,states1['1'], states1['population'],states1['2'], states1['population'],states1['3'], states1['population'])"
   ]
  },
  {
   "cell_type": "code",
   "execution_count": null,
   "metadata": {},
   "outputs": [
    {
     "name": "stdout",
     "output_type": "stream",
     "text": [
      "\n",
      "Enter 'quit' when you are finished.\n",
      "Please enter your age: 15\n",
      "Your ticket is $15\n",
      "\n",
      "Enter 'quit' when you are finished.\n",
      "Please enter your age: 3\n",
      "Your ticket is free\n",
      "\n",
      "Enter 'quit' when you are finished.\n",
      "Please enter your age: 25\n",
      "Your ticket is $15\n"
     ]
    }
   ],
   "source": [
    "prompt = \"\\nEnter 'quit' when you are finished.\"\n",
    "prompt += \"\\nPlease enter your age: \"\n",
    "while True:\n",
    "    age = input(prompt)\n",
    "    age = int(age)\n",
    "    if age == 'quit':\n",
    "        break\n",
    "    elif age <= 3:\n",
    "        print(\"Your ticket is free\")\n",
    "    elif age <= 10:\n",
    "        print(\"Your ticket is $10\")\n",
    "    else:\n",
    "        print(\"Your ticket is $15\")"
   ]
  },
  {
   "cell_type": "code",
   "execution_count": 1,
   "metadata": {},
   "outputs": [
    {
     "data": {
      "text/plain": [
       "(' of my favorite books is', 'Javascript')"
      ]
     },
     "execution_count": 1,
     "metadata": {},
     "output_type": "execute_result"
    }
   ],
   "source": [
    "def favourate_book(name,book):\n",
    "    return name,book\n",
    "favourate_book(name= ' of my favorite books is' ,book='Javascript')"
   ]
  },
  {
   "cell_type": "code",
   "execution_count": 2,
   "metadata": {},
   "outputs": [
    {
     "name": "stdout",
     "output_type": "stream",
     "text": [
      "Hello! What is your name?\n",
      "Ravi\n",
      "Well, Ravi, I am thinking of a number between 1 and 30.\n",
      "Take a guess.\n",
      "14\n",
      "Your guess is too high.\n",
      "Take a guess.\n",
      "7\n",
      "Good job, Ravi! You guessed my number in 2 guesses!\n"
     ]
    }
   ],
   "source": [
    "import random\n",
    "guessesTaken = 0\n",
    "print('Hello! What is your name?')\n",
    "myName = input()\n",
    "number = random.randint(1, 30)\n",
    "print('Well, ' + myName + ', I am thinking of a number between 1 and 30.')\n",
    "while guessesTaken < 6:\n",
    "    print('Take a guess.')\n",
    "    guess = input()\n",
    "    guess = int(guess)\n",
    "    guessesTaken = guessesTaken + 1\n",
    "\n",
    "    if guess < number:\n",
    "        print('Your guess is too low.')\n",
    "    if guess > number:\n",
    "        print('Your guess is too high.')\n",
    "\n",
    "    if guess == number:\n",
    "        break\n",
    "\n",
    "if guess == number:\n",
    "    guessesTaken = str(guessesTaken)\n",
    "    print('Good job, ' + myName + '! You guessed my number in ' + guessesTaken + ' guesses!')\n",
    "if guess != number:\n",
    "    number = str(number)\n",
    "    print('Nope. The number I was thinking of was ' + number)"
   ]
  },
  {
   "cell_type": "code",
   "execution_count": null,
   "metadata": {},
   "outputs": [],
   "source": []
  }
 ],
 "metadata": {
  "kernelspec": {
   "display_name": "Python 3",
   "language": "python",
   "name": "python3"
  }
 },
 "nbformat": 4,
 "nbformat_minor": 2
}
