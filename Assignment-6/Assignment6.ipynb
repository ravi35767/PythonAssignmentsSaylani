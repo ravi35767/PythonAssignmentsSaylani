{
 "cells": [
  {
   "cell_type": "code",
   "execution_count": 9,
   "metadata": {},
   "outputs": [
    {
     "name": "stdout",
     "output_type": "stream",
     "text": [
      "CNF\n",
      "Blue\n",
      "BMW\n",
      "White balt\n",
      "SuZki\n"
     ]
    }
   ],
   "source": [
    "class Car:\n",
    "    def __init__(self, model, color, name, Car_detail, car_Type):\n",
    "        self.model= model\n",
    "        self.color= color\n",
    "        self.name= name \n",
    "        self.Car_detail= Car_detail\n",
    "        self.car_Type= car_Type\n",
    "        \n",
    "    def Drive(self, deriver):\n",
    "        self.deriver= deriver\n",
    "        \n",
    "    def Speed(self, km, m):\n",
    "        self.km= km\n",
    "        self.m= m\n",
    "        \n",
    "        \n",
    "    def Break(self, yes, no):\n",
    "        self.yes= yes\n",
    "        self.no= no\n",
    "car1 = Car(\"CNF\",\"Blue\",\"BMW\",\"White balt\",\"SuZki\")\n",
    "print(car1.model)\n",
    "print(car1.color)\n",
    "print(car1.name)\n",
    "print(car1.Car_detail)\n",
    "print(car1.car_Type)"
   ]
  },
  {
   "cell_type": "code",
   "execution_count": null,
   "metadata": {},
   "outputs": [],
   "source": []
  }
 ],
 "metadata": {
  "kernelspec": {
   "display_name": "Python 3",
   "language": "python",
   "name": "python3"
  },
  "language_info": {
   "codemirror_mode": {
    "name": "ipython",
    "version": 3
   },
   "file_extension": ".py",
   "mimetype": "text/x-python",
   "name": "python",
   "nbconvert_exporter": "python",
   "pygments_lexer": "ipython3",
   "version": "3.7.4"
  }
 },
 "nbformat": 4,
 "nbformat_minor": 2
}
