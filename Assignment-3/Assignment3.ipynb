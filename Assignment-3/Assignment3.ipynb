{
 "cells": [
  {
   "cell_type": "code",
   "execution_count": 23,
   "metadata": {},
   "outputs": [
    {
     "ename": "IndentationError",
     "evalue": "unexpected indent (<ipython-input-23-12efee125ba0>, line 6)",
     "output_type": "error",
     "traceback": [
      "\u001b[1;36m  File \u001b[1;32m\"<ipython-input-23-12efee125ba0>\"\u001b[1;36m, line \u001b[1;32m6\u001b[0m\n\u001b[1;33m    print(val, 'Answer')\u001b[0m\n\u001b[1;37m    ^\u001b[0m\n\u001b[1;31mIndentationError\u001b[0m\u001b[1;31m:\u001b[0m unexpected indent\n"
     ]
    }
   ],
   "source": [
    "val1 = input(\"Enter first value\")\n",
    "val2 = input(\"Enter second value\")\n",
    "operator = input(\"Enter operator\")\n",
    "if operator == '+':\n",
    "    val = val1 + val2\n",
    "     print(val, 'Answer')\n",
    "elif operator == '-':\n",
    "    val = val1 - val2\n",
    "     print(val, 'Answer')\n",
    "elif operator == '*':\n",
    "    val = val1 * val2\n",
    "     print(val, 'Answer')\n",
    "elif operator == '/':\n",
    "    val = val1 / val2\n",
    "     print(val, 'Answer')\n",
    "\n",
    "else:\n",
    "    print('Enter correct operator')"
   ]
  },
  {
   "cell_type": "code",
   "execution_count": null,
   "metadata": {},
   "outputs": [],
   "source": [
    "lst = []\n",
    "num = int(input('How many numbers: '))\n",
    "for n in range(num):\n",
    "    numbers = int(input('Enter number '))\n",
    "    lst.append(numbers)\n",
    "print(\"numaric value  elements in given list is :\", lst)"
   ]
  },
  {
   "cell_type": "code",
   "execution_count": 22,
   "metadata": {},
   "outputs": [
    {
     "name": "stdout",
     "output_type": "stream",
     "text": [
      "Current Dict is:  {'key1': 'Ravi', 'key2': 'shankar'}\n",
      "{'key1': 'Ravi', 'key2': 'Ravi', 'key3': 'shankar'}\n"
     ]
    }
   ],
   "source": [
    "dict = {'key1':'Ravi', 'key2':'shankar'} \n",
    "print(\"Current Dict is: \", dict) \n",
    "  \n",
    "\n",
    "dict['key2'] = 'Ravi'\n",
    "dict['key3'] = 'shankar'\n",
    "print( dict) "
   ]
  },
  {
   "cell_type": "code",
   "execution_count": null,
   "metadata": {},
   "outputs": [],
   "source": [
    "my_dict = {'data1':100,'data2':-54,'data3':247}\n",
    "print(sum(my_dict.values()))"
   ]
  },
  {
   "cell_type": "code",
   "execution_count": null,
   "metadata": {},
   "outputs": [],
   "source": [
    "list1 = [1,2,1,3,1,4,1,4,2,5,9]\n",
    "unique = []\n",
    "for ele in list1:\n",
    "    if ele not in unique:\n",
    "        unique.append(ele)\n",
    "print unique"
   ]
  },
  {
   "cell_type": "code",
   "execution_count": null,
   "metadata": {},
   "outputs": [],
   "source": [
    "d = dict()\n",
    "\n",
    "for i in range(100):\n",
    "    key = i % 10\n",
    "    if key in d:\n",
    "        d[key] += 1\n",
    "    else:\n",
    "        d[key] = 1"
   ]
  }
 ],
 "metadata": {
  "kernelspec": {
   "display_name": "Python 3",
   "language": "python",
   "name": "python3"
  },
  "language_info": {
   "codemirror_mode": {
    "name": "ipython",
    "version": 3
   },
   "file_extension": ".py",
   "mimetype": "text/x-python",
   "name": "python",
   "nbconvert_exporter": "python",
   "pygments_lexer": "ipython3",
   "version": "3.7.4"
  }
 },
 "nbformat": 4,
 "nbformat_minor": 2
}
